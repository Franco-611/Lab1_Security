{
 "cells": [
  {
   "cell_type": "markdown",
   "metadata": {},
   "source": [
    "# Lab 1 deteccion de Pishing\n",
    "\n",
    "## - Diego Franco 20240\n",
    "## - Manuel Archila 161250"
   ]
  },
  {
   "cell_type": "code",
   "execution_count": 1,
   "metadata": {},
   "outputs": [],
   "source": [
    "import pandas as pd\n",
    "from sklearn.preprocessing import LabelEncoder\n",
    "\n",
    "from urllib.parse import urlparse\n",
    "import whois\n",
    "import re\n",
    "import ssl\n",
    "import datetime\n",
    "from sklearn.feature_extraction.text import CountVectorizer\n",
    "from sklearn.metrics.pairwise import cosine_similarity\n",
    "import requests\n",
    "from urllib.parse import urlparse, parse_qs\n",
    "import math"
   ]
  },
  {
   "cell_type": "markdown",
   "metadata": {},
   "source": [
    "## Pregunta 1"
   ]
  },
  {
   "cell_type": "code",
   "execution_count": 2,
   "metadata": {},
   "outputs": [
    {
     "data": {
      "text/html": [
       "<div>\n",
       "<style scoped>\n",
       "    .dataframe tbody tr th:only-of-type {\n",
       "        vertical-align: middle;\n",
       "    }\n",
       "\n",
       "    .dataframe tbody tr th {\n",
       "        vertical-align: top;\n",
       "    }\n",
       "\n",
       "    .dataframe thead th {\n",
       "        text-align: right;\n",
       "    }\n",
       "</style>\n",
       "<table border=\"1\" class=\"dataframe\">\n",
       "  <thead>\n",
       "    <tr style=\"text-align: right;\">\n",
       "      <th></th>\n",
       "      <th>url</th>\n",
       "      <th>status</th>\n",
       "    </tr>\n",
       "  </thead>\n",
       "  <tbody>\n",
       "    <tr>\n",
       "      <th>0</th>\n",
       "      <td>http://www.crestonwood.com/router.php</td>\n",
       "      <td>legitimate</td>\n",
       "    </tr>\n",
       "    <tr>\n",
       "      <th>1</th>\n",
       "      <td>http://shadetreetechnology.com/V4/validation/a...</td>\n",
       "      <td>phishing</td>\n",
       "    </tr>\n",
       "    <tr>\n",
       "      <th>2</th>\n",
       "      <td>https://support-appleld.com.secureupdate.duila...</td>\n",
       "      <td>phishing</td>\n",
       "    </tr>\n",
       "    <tr>\n",
       "      <th>3</th>\n",
       "      <td>http://rgipt.ac.in</td>\n",
       "      <td>legitimate</td>\n",
       "    </tr>\n",
       "    <tr>\n",
       "      <th>4</th>\n",
       "      <td>http://www.iracing.com/tracks/gateway-motorspo...</td>\n",
       "      <td>legitimate</td>\n",
       "    </tr>\n",
       "  </tbody>\n",
       "</table>\n",
       "</div>"
      ],
      "text/plain": [
       "                                                 url      status\n",
       "0              http://www.crestonwood.com/router.php  legitimate\n",
       "1  http://shadetreetechnology.com/V4/validation/a...    phishing\n",
       "2  https://support-appleld.com.secureupdate.duila...    phishing\n",
       "3                                 http://rgipt.ac.in  legitimate\n",
       "4  http://www.iracing.com/tracks/gateway-motorspo...  legitimate"
      ]
     },
     "execution_count": 2,
     "metadata": {},
     "output_type": "execute_result"
    }
   ],
   "source": [
    "data = pd.read_csv('dataset_pishing.csv')\n",
    "data2 = pd.read_csv('dataset_pishing.csv')\n",
    "\n",
    "data.head(5)\n"
   ]
  },
  {
   "cell_type": "code",
   "execution_count": 3,
   "metadata": {},
   "outputs": [
    {
     "data": {
      "text/html": [
       "<div>\n",
       "<style scoped>\n",
       "    .dataframe tbody tr th:only-of-type {\n",
       "        vertical-align: middle;\n",
       "    }\n",
       "\n",
       "    .dataframe tbody tr th {\n",
       "        vertical-align: top;\n",
       "    }\n",
       "\n",
       "    .dataframe thead th {\n",
       "        text-align: right;\n",
       "    }\n",
       "</style>\n",
       "<table border=\"1\" class=\"dataframe\">\n",
       "  <thead>\n",
       "    <tr style=\"text-align: right;\">\n",
       "      <th></th>\n",
       "      <th>url</th>\n",
       "      <th>status</th>\n",
       "    </tr>\n",
       "  </thead>\n",
       "  <tbody>\n",
       "    <tr>\n",
       "      <th>count</th>\n",
       "      <td>11430</td>\n",
       "      <td>11430</td>\n",
       "    </tr>\n",
       "    <tr>\n",
       "      <th>unique</th>\n",
       "      <td>11429</td>\n",
       "      <td>2</td>\n",
       "    </tr>\n",
       "    <tr>\n",
       "      <th>top</th>\n",
       "      <td>http://e710z0ear.du.r.appspot.com/c:/users/use...</td>\n",
       "      <td>legitimate</td>\n",
       "    </tr>\n",
       "    <tr>\n",
       "      <th>freq</th>\n",
       "      <td>2</td>\n",
       "      <td>5715</td>\n",
       "    </tr>\n",
       "  </tbody>\n",
       "</table>\n",
       "</div>"
      ],
      "text/plain": [
       "                                                      url      status\n",
       "count                                               11430       11430\n",
       "unique                                              11429           2\n",
       "top     http://e710z0ear.du.r.appspot.com/c:/users/use...  legitimate\n",
       "freq                                                    2        5715"
      ]
     },
     "execution_count": 3,
     "metadata": {},
     "output_type": "execute_result"
    }
   ],
   "source": [
    "data.describe()"
   ]
  },
  {
   "cell_type": "code",
   "execution_count": 4,
   "metadata": {},
   "outputs": [
    {
     "name": "stdout",
     "output_type": "stream",
     "text": [
      "<class 'pandas.core.frame.DataFrame'>\n",
      "RangeIndex: 11430 entries, 0 to 11429\n",
      "Data columns (total 2 columns):\n",
      " #   Column  Non-Null Count  Dtype \n",
      "---  ------  --------------  ----- \n",
      " 0   url     11430 non-null  object\n",
      " 1   status  11430 non-null  object\n",
      "dtypes: object(2)\n",
      "memory usage: 178.7+ KB\n"
     ]
    }
   ],
   "source": [
    "data.info()"
   ]
  },
  {
   "cell_type": "markdown",
   "metadata": {},
   "source": [
    "## Pregunta 2"
   ]
  },
  {
   "cell_type": "code",
   "execution_count": 5,
   "metadata": {},
   "outputs": [
    {
     "data": {
      "text/plain": [
       "legitimate    5715\n",
       "phishing      5715\n",
       "Name: status, dtype: int64"
      ]
     },
     "execution_count": 5,
     "metadata": {},
     "output_type": "execute_result"
    }
   ],
   "source": [
    "data['status'].value_counts()"
   ]
  },
  {
   "cell_type": "markdown",
   "metadata": {},
   "source": [
    "El dataset está balanceado porque tiene la misma cantidad de ejemplos para cada clase."
   ]
  },
  {
   "cell_type": "markdown",
   "metadata": {},
   "source": [
    "### 1. ¿Qué ventajas tiene el análisis de una URL contra el análisis de otros datos, cómo el tiempo de vida del dominio, o las características de la página Web?\n",
    "\n",
    "- Rapidez: El análisis de URL es generalmente más rápido que otras técnicas, como el tiempo de vida del dominio, lo que permite una detección más inmediata.\n",
    "\n",
    "- Información inmediata: La URL proporciona información directa sobre la dirección web, lo que facilita la evaluación inmediata de su validez.\n",
    "\n",
    "- Facilidad de extracción: Las características de una URL son fáciles de extraer y analizar en comparación con otras métricas, como el tiempo de vida del dominio.\n",
    "\n",
    "- Accesibilidad: Las URLs son públicas y fácilmente accesibles, permitiendo análisis sin requerir acceso a información privada.\n",
    "\n",
    "### 2. ¿Qué características de una URL son más prometedoras para la detección de phishing?\n",
    "\n",
    "Presencia de IP en Lugar de Dominio: Los sitios de phishing frecuentemente utilizan direcciones IP directamente en la URL para evitar el uso de nombres de dominio legítimos.\n",
    "\n",
    "Uso de HTTPS: Aunque el uso de HTTPS no es exclusivo de sitios legítimos, los sitios de phishing a menudo no utilizan HTTPS, o lo implementan incorrectamente, para engañar a los usuarios sobre la seguridad del sitio.\n",
    "\n",
    "URL Acortada: Los atacantes usan URLs acortadas para ocultar el destino real del enlace, dificultando que los usuarios identifiquen sitios maliciosos.\n",
    "\n",
    "Puerto No Estándar: El uso de puertos no estándar puede ser un indicativo de que el sitio está intentando evadir algunas medidas de seguridad o controles.\n",
    "\n",
    "Caracteres Especiales: Un número elevado de caracteres especiales en una URL puede indicar intentos de incluir scripts maliciosos o simular visualmente un dominio legítimo.\n",
    "\n",
    "Longitud de la URL: Las URLs muy largas a menudo se utilizan para ocultar partes maliciosas de la URL o simular sitios legítimos mediante la adición de términos reconocibles.\n",
    "\n",
    "Uso de Subdominios: Un número excesivo de subdominios puede ser un intento de simular sitios legítimos o de crear confusiones sobre el dominio principal.\n",
    "\n",
    "Coincidencia con Marcas Conocidas: La inclusión de nombres de marcas conocidas en la URL puede ser un intento de engañar a los usuarios haciéndoles creer que están visitando un sitio oficial.\n",
    "\n",
    "Palabras Clave Sospechosas: La presencia de palabras clave sospechosas relacionadas con actividades de phishing, como \"login\", \"verify\", o términos bancarios, es una señal de alerta.\n",
    "\n",
    "Terminos de Seguridad Falsos: La inclusión de términos que sugieren seguridad, como \"secure\" o \"verify\", puede ser una táctica para ganar la confianza del usuario.\n",
    "\n",
    "Profundidad de la URL: Una profundidad de URL significativa (número de '/' en el path) puede indicar intentos de simular páginas legítimas profundas dentro de un sitio.\n",
    "\n",
    "Archivos Descargables Sospechosos: La presencia en la URL de extensiones de archivo típicamente asociadas con malware (como .exe, .zip, .rar, .dmg) es una gran señal de alerta.\n",
    "\n",
    "Parámetros Sensibles en la URL: La inclusión de parámetros que parecen contener información sensible o tokens de sesión puede ser un intento de phishing basado en ingeniería social.\n",
    "\n",
    "Entropía de la URL se centra en medir la complejidad y aleatoriedad en la secuencia de caracteres de una URL. Las URLs de phishing tienden a tener una entropía más alta que las URLs legítimas."
   ]
  },
  {
   "cell_type": "code",
   "execution_count": 6,
   "metadata": {},
   "outputs": [],
   "source": [
    "#Funciones\n",
    "\n",
    "def longitud_url(url):\n",
    "    return len(url)\n",
    "\n",
    "def caracteres_especiales(url):\n",
    "    return sum(c.isalnum() == False for c in url)\n",
    "\n",
    "def uso_subdominios(url):\n",
    "    return len(urlparse(url).netloc.split('.'))\n",
    "\n",
    "def coincidencia_marcas(url, marcas_conocidas):\n",
    "    return any(brand.lower() in url.lower() for brand in marcas_conocidas)\n",
    "\n",
    "def verificar_https(url):\n",
    "    return 1 if urlparse(url).scheme == 'https' else 0\n",
    "\n",
    "\n",
    "def similitud_url_legitimas(url, urls_legitimas_conocidas):\n",
    "    vectorizer = CountVectorizer().fit_transform([url] + urls_legitimas_conocidas)\n",
    "    similarity_matrix = cosine_similarity(vectorizer)\n",
    "    return similarity_matrix[0, 1:]\n",
    "\n",
    "def palabras_clave_sospechosas(url, palabras_sospechosas):\n",
    "    return sum(1 for palabra in palabras_sospechosas if palabra.lower() in url.lower())\n",
    "\n",
    "def ip_en_lugar_de_dominio(url):\n",
    "    return 1 if re.match(r'\\b(?:\\d{1,3}\\.){3}\\d{1,3}\\b', urlparse(url).netloc) else 0\n",
    "\n",
    "def entropia_url(url):\n",
    "    frecuencia_caracteres = {}\n",
    "    for caracter in url:\n",
    "        if caracter in frecuencia_caracteres:\n",
    "            frecuencia_caracteres[caracter] += 1\n",
    "        else:\n",
    "            frecuencia_caracteres[caracter] = 1\n",
    "    \n",
    "    entropia = 0.0\n",
    "    longitud_url = len(url)\n",
    "    for frecuencia in frecuencia_caracteres.values():\n",
    "        probabilidad = frecuencia / longitud_url\n",
    "        entropia -= probabilidad * math.log2(probabilidad)\n",
    "    \n",
    "    return entropia\n",
    "\n",
    "def url_acortada(url):\n",
    "    servicios_acortadores = ['bit.ly', 'tinyurl.com', 'goo.gl', 'ow.ly', 't.co']\n",
    "    netloc = urlparse(url).netloc\n",
    "    return any(servicio in netloc for servicio in servicios_acortadores)\n",
    "    \n",
    "def puerto_no_estandar(url):\n",
    "    puerto = urlparse(url).port\n",
    "    return 1 if puerto and puerto not in [80, 443] else 0\n",
    "\n",
    "# Presencia de términos de seguridad falsos en la URL\n",
    "def terminos_seguridad_falsos(url):\n",
    "    terminos_falsos = ['secure', 'account', 'verify', 'banking']\n",
    "    return any(termino in url.lower() for termino in terminos_falsos)\n",
    "\n",
    "# Profundidad de la URL (número de '/' en el path)x\n",
    "def profundidad_url(url):\n",
    "    path = urlparse(url).path\n",
    "    return path.count('/')\n",
    "\n",
    "# Presencia de archivos descargables sospechosos (ej. .exe, .zip)\n",
    "def archivo_descargable_sospechoso(url):\n",
    "    extensiones_sospechosas = ['.exe', '.zip', '.rar', '.dmg']\n",
    "    return any(url.lower().endswith(ext) for ext in extensiones_sospechosas)\n",
    "\n",
    "def parametros_sensibles_url(url):\n",
    "    parametros_sensibles = ['sessionid', 'token', 'auth', 'password', 'credential']\n",
    "    query = urlparse(url).query\n",
    "    parametros = parse_qs(query)\n",
    "    return 1 if any(param in parametros for param in parametros_sensibles) else 0\n"
   ]
  },
  {
   "cell_type": "code",
   "execution_count": 7,
   "metadata": {},
   "outputs": [],
   "source": [
    "data['longitud_url'] = data['url'].apply(longitud_url)\n",
    "data['caracteres_especiales'] = data['url'].apply(caracteres_especiales)\n",
    "data['uso_subdominios'] = data['url'].apply(uso_subdominios)\n",
    "data['verificar_https'] = data['url'].apply(verificar_https)\n",
    "data['similitud_url_legitimas'] = data['url'].apply(lambda x: similitud_url_legitimas(x, urls_legitimas_conocidas=['http://legitimo.com']))\n",
    "data['palabras_clave_sospechosas'] = data['url'].apply(lambda x: palabras_clave_sospechosas(x, palabras_sospechosas=['phishing']))\n",
    "data['ip_en_lugar_de_dominio'] = data['url'].apply(ip_en_lugar_de_dominio)\n",
    "data['url_acortada'] = data['url'].apply(url_acortada)\n",
    "data['puerto_no_estandar'] = data['url'].apply(puerto_no_estandar)\n",
    "data['terminos_seguridad_falsos'] = data['url'].apply(terminos_seguridad_falsos)\n",
    "data['profundidad_url'] = data['url'].apply(profundidad_url)\n",
    "data['archivo_descargable_sospechoso'] = data['url'].apply(archivo_descargable_sospechoso)\n",
    "data['parametros_sensibles_url'] = data['url'].apply(parametros_sensibles_url)\n",
    "data['entropia_url'] = data['url'].apply(entropia_url)\n",
    "\n",
    "data2['longitud_url'] = data2['url'].apply(longitud_url)\n",
    "data2['caracteres_especiales'] = data2['url'].apply(caracteres_especiales)\n",
    "data2['uso_subdominios'] = data2['url'].apply(uso_subdominios)\n",
    "data2['verificar_https'] = data2['url'].apply(verificar_https)\n",
    "data2['similitud_url_legitimas'] = data2['url'].apply(lambda x: similitud_url_legitimas(x, urls_legitimas_conocidas=['http://legitimo.com']))\n",
    "data2['palabras_clave_sospechosas'] = data2['url'].apply(lambda x: palabras_clave_sospechosas(x, palabras_sospechosas=['phishing']))\n",
    "data2['ip_en_lugar_de_dominio'] = data2['url'].apply(ip_en_lugar_de_dominio)\n",
    "data2['url_acortada'] = data2['url'].apply(url_acortada)\n",
    "data2['puerto_no_estandar'] = data2['url'].apply(puerto_no_estandar)\n",
    "data2['terminos_seguridad_falsos'] = data2['url'].apply(terminos_seguridad_falsos)\n",
    "data2['profundidad_url'] = data2['url'].apply(profundidad_url)\n",
    "data2['archivo_descargable_sospechoso'] = data2['url'].apply(archivo_descargable_sospechoso)\n",
    "data2['parametros_sensibles_url'] = data2['url'].apply(parametros_sensibles_url)\n",
    "data2['entropia_url'] = data2['url'].apply(entropia_url)\n"
   ]
  },
  {
   "cell_type": "code",
   "execution_count": 8,
   "metadata": {},
   "outputs": [
    {
     "name": "stdout",
     "output_type": "stream",
     "text": [
      "DataFrame después de las modificaciones:\n",
      "       status  longitud_url  caracteres_especiales  uso_subdominios  \\\n",
      "0  legitimate            37                      7                3   \n",
      "1    phishing            77                      7                2   \n",
      "2    phishing           126                     19                5   \n",
      "3  legitimate            18                      5                3   \n",
      "4  legitimate            55                     10                3   \n",
      "\n",
      "   verificar_https similitud_url_legitimas  palabras_clave_sospechosas  \\\n",
      "0                0    [0.4714045207910318]                           0   \n",
      "1                0    [0.4714045207910318]                           0   \n",
      "2                1    [0.2886751345948129]                           0   \n",
      "3                0    [0.2886751345948129]                           0   \n",
      "4                0     [0.408248290463863]                           0   \n",
      "\n",
      "   ip_en_lugar_de_dominio  url_acortada  puerto_no_estandar  \\\n",
      "0                       0         False                   0   \n",
      "1                       0         False                   0   \n",
      "2                       0         False                   0   \n",
      "3                       0         False                   0   \n",
      "4                       0         False                   0   \n",
      "\n",
      "   terminos_seguridad_falsos  profundidad_url  archivo_descargable_sospechoso  \\\n",
      "0                      False                1                           False   \n",
      "1                      False                3                           False   \n",
      "2                       True                3                           False   \n",
      "3                      False                0                           False   \n",
      "4                      False                3                           False   \n",
      "\n",
      "   parametros_sensibles_url  entropia_url  status_binario  \n",
      "0                         0      3.787043               0  \n",
      "1                         0      4.419864               1  \n",
      "2                         0      4.753412               1  \n",
      "3                         0      3.461320               0  \n",
      "4                         0      4.097662               0  \n"
     ]
    }
   ],
   "source": [
    "label_encoder = LabelEncoder()\n",
    "data['status_binario'] = label_encoder.fit_transform(data['status'])\n",
    "data2['status_binario'] = label_encoder.fit_transform(data2['status'])\n",
    "\n",
    "data = data.drop(['url'], axis=1)\n",
    "data2 = data2.drop(['url'], axis=1)\n",
    "\n",
    "\n",
    "print(\"DataFrame después de las modificaciones:\")\n",
    "print(data.head())\n"
   ]
  },
  {
   "cell_type": "code",
   "execution_count": 9,
   "metadata": {},
   "outputs": [],
   "source": [
    "import pandas as pd\n",
    "from sklearn.feature_selection import VarianceThreshold\n",
    "from sklearn.model_selection import train_test_split\n",
    "from sklearn.preprocessing import LabelEncoder"
   ]
  },
  {
   "cell_type": "code",
   "execution_count": 10,
   "metadata": {},
   "outputs": [],
   "source": [
    "# Convertir las variables categóricas a numéricas si es necesario\n",
    "label_encoder = LabelEncoder()\n",
    "data2['verificar_https'] = label_encoder.fit_transform(data2['verificar_https'])\n",
    "data2['ip_en_lugar_de_dominio'] = label_encoder.fit_transform(data2['ip_en_lugar_de_dominio'])\n",
    "data2['url_acortada'] = label_encoder.fit_transform(data2['url_acortada'])\n",
    "\n",
    "# Dividir los datos en características (X) y etiquetas (y)\n",
    "data2 = data2.drop('status', axis=1)\n",
    "X = data2.drop('status_binario', axis=1)\n",
    "y = data2['status_binario']\n",
    "\n",
    "# Dividir los datos en conjuntos de entrenamiento y prueba\n",
    "X_train, X_test, y_train, y_test = train_test_split(X, y, test_size=0.2, random_state=42)\n",
    "\n",
    "# Calcular la varianza de cada característica y filtrar aquellas con baja varianza\n",
    "selector = VarianceThreshold()\n",
    "X_train_filtered = selector.fit_transform(X_train)\n",
    "X_test_filtered = selector.transform(X_test)\n",
    "\n",
    "# Obtener las columnas seleccionadas después de aplicar el filtro de varianza\n",
    "selected_columns = X.columns[selector.get_support()]\n",
    "\n",
    "# Crear un DataFrame con las columnas seleccionadas y la columna 'status_binario'\n",
    "filtered_data = data2[selected_columns.append(pd.Index(['status_binario']))]\n",
    "\n",
    "# Generar un reporte HTML y guardarlo en un archivo\n",
    "report_html = filtered_data.describe().to_html()\n",
    "with open('reporte.html', 'w') as file:\n",
    "    file.write(report_html)"
   ]
  },
  {
   "cell_type": "markdown",
   "metadata": {},
   "source": [
    "Se realizó un reporte manual debido a las incongruecias de las dependeciencias de la libreria de pandas_profiling con las librerías para realizar los modelos de machine learning."
   ]
  },
  {
   "cell_type": "code",
   "execution_count": 11,
   "metadata": {},
   "outputs": [],
   "source": [
    "from sklearn.model_selection import train_test_split\n",
    "from sklearn.linear_model import LogisticRegression\n",
    "from sklearn.ensemble import RandomForestClassifier\n",
    "from sklearn.metrics import confusion_matrix, precision_score, recall_score, roc_auc_score, roc_curve\n",
    "import matplotlib.pyplot as plt"
   ]
  },
  {
   "cell_type": "code",
   "execution_count": 12,
   "metadata": {},
   "outputs": [
    {
     "data": {
      "text/html": [
       "<style>#sk-container-id-1 {color: black;background-color: white;}#sk-container-id-1 pre{padding: 0;}#sk-container-id-1 div.sk-toggleable {background-color: white;}#sk-container-id-1 label.sk-toggleable__label {cursor: pointer;display: block;width: 100%;margin-bottom: 0;padding: 0.3em;box-sizing: border-box;text-align: center;}#sk-container-id-1 label.sk-toggleable__label-arrow:before {content: \"▸\";float: left;margin-right: 0.25em;color: #696969;}#sk-container-id-1 label.sk-toggleable__label-arrow:hover:before {color: black;}#sk-container-id-1 div.sk-estimator:hover label.sk-toggleable__label-arrow:before {color: black;}#sk-container-id-1 div.sk-toggleable__content {max-height: 0;max-width: 0;overflow: hidden;text-align: left;background-color: #f0f8ff;}#sk-container-id-1 div.sk-toggleable__content pre {margin: 0.2em;color: black;border-radius: 0.25em;background-color: #f0f8ff;}#sk-container-id-1 input.sk-toggleable__control:checked~div.sk-toggleable__content {max-height: 200px;max-width: 100%;overflow: auto;}#sk-container-id-1 input.sk-toggleable__control:checked~label.sk-toggleable__label-arrow:before {content: \"▾\";}#sk-container-id-1 div.sk-estimator input.sk-toggleable__control:checked~label.sk-toggleable__label {background-color: #d4ebff;}#sk-container-id-1 div.sk-label input.sk-toggleable__control:checked~label.sk-toggleable__label {background-color: #d4ebff;}#sk-container-id-1 input.sk-hidden--visually {border: 0;clip: rect(1px 1px 1px 1px);clip: rect(1px, 1px, 1px, 1px);height: 1px;margin: -1px;overflow: hidden;padding: 0;position: absolute;width: 1px;}#sk-container-id-1 div.sk-estimator {font-family: monospace;background-color: #f0f8ff;border: 1px dotted black;border-radius: 0.25em;box-sizing: border-box;margin-bottom: 0.5em;}#sk-container-id-1 div.sk-estimator:hover {background-color: #d4ebff;}#sk-container-id-1 div.sk-parallel-item::after {content: \"\";width: 100%;border-bottom: 1px solid gray;flex-grow: 1;}#sk-container-id-1 div.sk-label:hover label.sk-toggleable__label {background-color: #d4ebff;}#sk-container-id-1 div.sk-serial::before {content: \"\";position: absolute;border-left: 1px solid gray;box-sizing: border-box;top: 0;bottom: 0;left: 50%;z-index: 0;}#sk-container-id-1 div.sk-serial {display: flex;flex-direction: column;align-items: center;background-color: white;padding-right: 0.2em;padding-left: 0.2em;position: relative;}#sk-container-id-1 div.sk-item {position: relative;z-index: 1;}#sk-container-id-1 div.sk-parallel {display: flex;align-items: stretch;justify-content: center;background-color: white;position: relative;}#sk-container-id-1 div.sk-item::before, #sk-container-id-1 div.sk-parallel-item::before {content: \"\";position: absolute;border-left: 1px solid gray;box-sizing: border-box;top: 0;bottom: 0;left: 50%;z-index: -1;}#sk-container-id-1 div.sk-parallel-item {display: flex;flex-direction: column;z-index: 1;position: relative;background-color: white;}#sk-container-id-1 div.sk-parallel-item:first-child::after {align-self: flex-end;width: 50%;}#sk-container-id-1 div.sk-parallel-item:last-child::after {align-self: flex-start;width: 50%;}#sk-container-id-1 div.sk-parallel-item:only-child::after {width: 0;}#sk-container-id-1 div.sk-dashed-wrapped {border: 1px dashed gray;margin: 0 0.4em 0.5em 0.4em;box-sizing: border-box;padding-bottom: 0.4em;background-color: white;}#sk-container-id-1 div.sk-label label {font-family: monospace;font-weight: bold;display: inline-block;line-height: 1.2em;}#sk-container-id-1 div.sk-label-container {text-align: center;}#sk-container-id-1 div.sk-container {/* jupyter's `normalize.less` sets `[hidden] { display: none; }` but bootstrap.min.css set `[hidden] { display: none !important; }` so we also need the `!important` here to be able to override the default hidden behavior on the sphinx rendered scikit-learn.org. See: https://github.com/scikit-learn/scikit-learn/issues/21755 */display: inline-block !important;position: relative;}#sk-container-id-1 div.sk-text-repr-fallback {display: none;}</style><div id=\"sk-container-id-1\" class=\"sk-top-container\"><div class=\"sk-text-repr-fallback\"><pre>RandomForestClassifier()</pre><b>In a Jupyter environment, please rerun this cell to show the HTML representation or trust the notebook. <br />On GitHub, the HTML representation is unable to render, please try loading this page with nbviewer.org.</b></div><div class=\"sk-container\" hidden><div class=\"sk-item\"><div class=\"sk-estimator sk-toggleable\"><input class=\"sk-toggleable__control sk-hidden--visually\" id=\"sk-estimator-id-1\" type=\"checkbox\" checked><label for=\"sk-estimator-id-1\" class=\"sk-toggleable__label sk-toggleable__label-arrow\">RandomForestClassifier</label><div class=\"sk-toggleable__content\"><pre>RandomForestClassifier()</pre></div></div></div></div></div>"
      ],
      "text/plain": [
       "RandomForestClassifier()"
      ]
     },
     "execution_count": 12,
     "metadata": {},
     "output_type": "execute_result"
    }
   ],
   "source": [
    "# Suponiendo que 'df' es tu DataFrame y 'status_binario' es la columna objetivo.\n",
    "data = data.drop('status', axis=1)  # Eliminar la columna 'status' para evitar errores de entrenamiento\n",
    "X = data.drop('status_binario', axis=1)  # Características\n",
    "y = data['status_binario']  # Etiqueta objetivo\n",
    "\n",
    "# Dividir los datos en conjuntos de entrenamiento y prueba\n",
    "X_train, X_temp, y_train, y_temp = train_test_split(X, y, test_size=0.45, random_state=42)\n",
    "\n",
    "X_val, X_test, y_val, y_test = train_test_split(X_temp, y_temp, test_size=2/3, random_state=42)\n",
    "\n",
    "# Crear DataFrames para cada conjunto\n",
    "train_df = pd.concat([X_train, y_train], axis=1)\n",
    "val_df = pd.concat([X_val, y_val], axis=1)\n",
    "test_df = pd.concat([X_test, y_test], axis=1)\n",
    "\n",
    "train_df = pd.concat([X_train, y_train], axis=1)\n",
    "val_df = pd.concat([X_val, y_val], axis=1)\n",
    "test_df = pd.concat([X_test, y_test], axis=1)\n",
    "\n",
    "# Almacenar cada DataFrame como un archivo .csv\n",
    "train_df.to_csv('./data/train_dataset.csv', index=False)\n",
    "val_df.to_csv('./data/validation_dataset.csv', index=False)\n",
    "test_df.to_csv('./data/test_dataset.csv', index=False)\n",
    "\n",
    "# Inicializar y entrenar el modelo de Regresión Logística\n",
    "log_reg = LogisticRegression(max_iter=1000)  # Aumentar max_iter si es necesario para la convergencia\n",
    "log_reg.fit(X_train, y_train)\n",
    "\n",
    "# Inicializar y entrenar el modelo de Bosques Aleatorios\n",
    "random_forest = RandomForestClassifier(n_estimators=100)  # Puedes ajustar n_estimators y otros hiperparámetros\n",
    "random_forest.fit(X_train, y_train)"
   ]
  },
  {
   "cell_type": "code",
   "execution_count": 13,
   "metadata": {},
   "outputs": [],
   "source": [
    "def evaluate_model(model, X_test, y_test, model_name='Model'):\n",
    "    y_pred = model.predict(X_test)\n",
    "    y_pred_proba = model.predict_proba(X_test)[:, 1]\n",
    "    conf_matrix = confusion_matrix(y_test, y_pred)\n",
    "    precision = precision_score(y_test, y_pred)\n",
    "    recall = recall_score(y_test, y_pred)\n",
    "    auc_score = roc_auc_score(y_test, y_pred_proba)\n",
    "    \n",
    "    fpr, tpr, _ = roc_curve(y_test, y_pred_proba)\n",
    "    \n",
    "    print(f'{model_name} - Matriz de Confusión:\\n', conf_matrix)\n",
    "    print(f'{model_name} - Precisión: {precision:.2f}')\n",
    "    print(f'{model_name} - Recall: {recall:.2f}')\n",
    "    print(f'{model_name} - AUC: {auc_score:.2f}')\n",
    "    \n",
    "    plt.figure()\n",
    "    plt.plot(fpr, tpr, label=f'{model_name} (auc = {auc_score:.2f})')\n",
    "    plt.plot([0, 1], [0, 1], 'k--')\n",
    "    plt.xlim([0.0, 1.0])\n",
    "    plt.ylim([0.0, 1.05])\n",
    "    plt.xlabel('False Positive Rate')\n",
    "    plt.ylabel('True Positive Rate')\n",
    "    plt.title(f'Receiver Operating Characteristic - {model_name}')\n",
    "    plt.legend(loc='lower right')\n",
    "    plt.show()"
   ]
  },
  {
   "cell_type": "code",
   "execution_count": 14,
   "metadata": {},
   "outputs": [
    {
     "name": "stdout",
     "output_type": "stream",
     "text": [
      "Regresión Logística - Matriz de Confusión:\n",
      " [[1255  460]\n",
      " [ 643 1072]]\n",
      "Regresión Logística - Precisión: 0.70\n",
      "Regresión Logística - Recall: 0.63\n",
      "Regresión Logística - AUC: 0.75\n"
     ]
    },
    {
     "data": {
      "image/png": "[encoded data removed]",
      "text/plain": [
       "<Figure size 640x480 with 1 Axes>"
      ]
     },
     "metadata": {},
     "output_type": "display_data"
    }
   ],
   "source": [
    "evaluate_model(log_reg, X_test, y_test, 'Regresión Logística')"
   ]
  },
  {
   "cell_type": "code",
   "execution_count": 15,
   "metadata": {},
   "outputs": [
    {
     "name": "stdout",
     "output_type": "stream",
     "text": [
      "Random Forest - Matriz de Confusión:\n",
      " [[1407  308]\n",
      " [ 378 1337]]\n",
      "Random Forest - Precisión: 0.81\n",
      "Random Forest - Recall: 0.78\n",
      "Random Forest - AUC: 0.88\n"
     ]
    },
    {
     "data": {
      "image/png": "[encoded data removed]",
      "text/plain": [
       "<Figure size 640x480 with 1 Axes>"
      ]
     },
     "metadata": {},
     "output_type": "display_data"
    }
   ],
   "source": [
    "evaluate_model(random_forest, X_test, y_test, 'Random Forest')"
   ]
  },
  {
   "cell_type": "markdown",
   "metadata": {},
   "source": [
    "## Pregunta 3 \n",
    "### - ¿Cuál es el impacto de clasificar un sitio legítimo como phishing?\n",
    "\n",
    "- Pérdida de confianza: Los usuarios pueden perder confianza en el sistema de clasificación si experimentan falsos positivos con frecuencia. Esto puede llevar a que ignoren las advertencias futuras, incluso cuando sean legítimas.\n",
    "\n",
    "- Inconvenientes para los usuarios: Si un sitio legítimo es erróneamente etiquetado como phishing, los usuarios pueden enfrentar inconvenientes al intentar acceder a servicios legítimos. Esto podría resultar en pérdida de tiempo y frustración.\n",
    "\n",
    "- Impacto financiero: Las empresas cuyos sitios son falsamente etiquetados como phishing pueden experimentar pérdidas financieras. Los usuarios podrían evitar realizar transacciones en esos sitios por miedo a fraudes, lo que afectaría los ingresos de la empresa."
   ]
  },
  {
   "cell_type": "markdown",
   "metadata": {},
   "source": [
    "## Pregunta 4\n",
    "### - ¿Cuál es el impacto de clasificar un sitio de phishing como legítimo?\n",
    "\n",
    "- Riesgo para la seguridad: Al clasificar un sitio de phishing como legítimo, se expone a los usuarios a posibles ataques de phishing. Los usuarios pueden ser engañados para proporcionar información confidencial, como nombres de usuario, contraseñas o información financiera, lo que puede resultar en robo de identidad o pérdida de datos.\n",
    "\n",
    "- Pérdida financiera: Los usuarios que confían en la clasificación incorrecta de un sitio de phishing pueden ser víctimas de fraudes financieros. Esto podría implicar la realización de transacciones en sitios maliciosos creyendo que son seguros, lo que podría resultar en pérdidas económicas significativas.\n",
    "\n",
    "- Daño a la reputación: Si los usuarios confían en un sistema de clasificación y este comete el error de etiquetar un sitio de phishing como legítimo, la reputación del sistema y del proveedor de seguridad puede verse seriamente dañada. La confianza de los usuarios en las futuras clasificaciones podría disminuir."
   ]
  },
  {
   "cell_type": "markdown",
   "metadata": {},
   "source": [
    "## Pregunta 5\n",
    "### - En base a las respuestas anteriores, ¿Qué métrica elegiría para comparar modelos similares de clasificación de phishing?\n",
    "\n",
    "Las metrícas que elegiría para comparar los modelos son:\n",
    "\n",
    "- Recall (Sensibilidad o Tasa de Verdaderos Positivos): Esta métrica es crucial en el contexto de la detección de phishing, ya que mide la proporción de sitios de phishing que el modelo logra identificar correctamente. Un alto recall indica que el modelo es efectivo para encontrar la mayoría de los casos de phishing, reduciendo así los falsos negativos.\n",
    "\n",
    " \n",
    "\n",
    "- Área bajo la curva PR (AUC-PR): Esta métrica es especialmente útil cuando hay desequilibrio en las clases, como suele ser el caso en problemas de detección de phishing. A diferencia de la curva ROC, la curva PR se enfoca en la precisión y el recall, siendo valiosa para evaluar el rendimiento en la detección de casos positivos.\n"
   ]
  },
  {
   "cell_type": "markdown",
   "metadata": {},
   "source": [
    "## Pregunta 6\n",
    "### - ¿Qué modelo funcionó mejor para la clasificación de phishing? ¿Por qué?\n",
    "\n",
    "El modelo de Random Forest supera al de Regresión Logística en todas las métricas consideradas:\n",
    "\n",
    "- Precisión: Random Forest tiene una precisión significativamente más alta (0.82 vs. 0.70), lo que indica que es mejor para identificar URLs de phishing de manera correcta.\n",
    "- Recall: Random Forest también tiene un mejor recall (0.77 vs. 0.63), lo que significa que es más eficaz para detectar la mayoría de las instancias de phishing.\n",
    "- AUC: Con un AUC de 0.88, Random Forest muestra una mejor capacidad general para distinguir entre URLs legítimas y de phishing en comparación con Regresión Logística, que tiene un AUC de 0.75\n",
    "\n",
    "Este mejor rendimiento puede atribuirse a la capacidad de Random Forest para manejar la complejidad y las interacciones no lineales entre características, lo que es común en problemas de clasificación como la detección de phishing."
   ]
  },
  {
   "cell_type": "markdown",
   "metadata": {},
   "source": [
    "## Pregunta 7\n",
    "### - Una empresa desea utilizar su mejor modelo, debido a que sus empleados sufren constantes ataques de phishing mediante e-mail. La empresa estima que, de un total de 50,000 emails, un 15% son phishing. \n",
    "¿Qué cantidad de alarmas generaría su modelo?\n",
    "\n",
    "- Total de emails: 50,000\n",
    "- Emails de phishing (15%): 50,000 * 0.15 = 7,500\n",
    "- Emails legítimos (85%): 50,000 * 0.85 = 42,500\n",
    "\n",
    "¿Cuántas positivas y cuantas negativas?\n",
    "\n",
    "- Verdaderos Positivos (VP): Aproximadamente 5,775 emails de phishing serían correctamente identificados por el modelo.\n",
    "- Falsos Positivos (FP): Aproximadamente 1,268 emails legítimos serían incorrectamente marcados como phishing.\n",
    "- Falsos Negativos (FN): Aproximadamente 1,725 emails de phishing no serían detectados por el modelo\n",
    "\n",
    "¿Funciona el modelo para el BR propuesto?\n",
    "\n",
    "El modelo parece eficaz para identificar phishing, pero la cantidad de falsas alarmas (aproximadamente 1,268) puede ser considerada alta, dependiendo del nivel de tolerancia de la empresa a las interrupciones. Si la empresa valora más la detección precisa de phishing que la minimización de falsas alarmas, el modelo podría ser adecuado. Sin embargo, si la empresa desea reducir la cantidad de falsas alarmas, podría ser necesario ajustar el umbral de decisión del modelo o considerar otras estrategias para mejorar su rendimiento.\n",
    "\n",
    "En caso negativo, ¿qué se podría hacer para reducir la cantidad de falsas alarmas?\n",
    "\n",
    "1. Ajuste de Umbrales: Ajustar el umbral de decisión para la clasificación puede ayudar a reducir los FP a costa de posiblemente aumentar los FN.\n",
    "2. Reentrenamiento y Ajuste de Modelos: Optimizar los hiperparámetros del modelo o reentrenar el modelo con un conjunto de datos más amplio o más representativo podría mejorar la precisión.\n",
    "3. Incorporación de Nuevas Características: Añadir más características relevantes podría ayudar a mejorar la capacidad del modelo para diferenciar entre emails legítimos y de phishing.\n",
    "\n",
    "\n",
    "\n"
   ]
  }
 ],
 "metadata": {
  "kernelspec": {
   "display_name": "Python 3",
   "language": "python",
   "name": "python3"
  },
  "language_info": {
   "codemirror_mode": {
    "name": "ipython",
    "version": 3
   },
   "file_extension": ".py",
   "mimetype": "text/x-python",
   "name": "python",
   "nbconvert_exporter": "python",
   "pygments_lexer": "ipython3",
   "version": "3.11.1"
  }
 },
 "nbformat": 4,
 "nbformat_minor": 2
}
