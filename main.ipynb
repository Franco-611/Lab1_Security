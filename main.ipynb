{
 "cells": [
  {
   "cell_type": "code",
   "execution_count": 14,
   "metadata": {},
   "outputs": [],
   "source": [
    "import pandas as pd\n",
    "from sklearn.preprocessing import LabelEncoder\n",
    "\n",
    "from urllib.parse import urlparse\n",
    "import whois\n",
    "import re\n",
    "import ssl\n",
    "import datetime\n",
    "from sklearn.feature_extraction.text import CountVectorizer\n",
    "from sklearn.metrics.pairwise import cosine_similarity"
   ]
  },
  {
   "cell_type": "markdown",
   "metadata": {},
   "source": [
    "## Pregunta 1"
   ]
  },
  {
   "cell_type": "code",
   "execution_count": 22,
   "metadata": {},
   "outputs": [
    {
     "data": {
      "text/html": [
       "<div>\n",
       "<style scoped>\n",
       "    .dataframe tbody tr th:only-of-type {\n",
       "        vertical-align: middle;\n",
       "    }\n",
       "\n",
       "    .dataframe tbody tr th {\n",
       "        vertical-align: top;\n",
       "    }\n",
       "\n",
       "    .dataframe thead th {\n",
       "        text-align: right;\n",
       "    }\n",
       "</style>\n",
       "<table border=\"1\" class=\"dataframe\">\n",
       "  <thead>\n",
       "    <tr style=\"text-align: right;\">\n",
       "      <th></th>\n",
       "      <th>url</th>\n",
       "      <th>status</th>\n",
       "    </tr>\n",
       "  </thead>\n",
       "  <tbody>\n",
       "    <tr>\n",
       "      <th>0</th>\n",
       "      <td>http://www.crestonwood.com/router.php</td>\n",
       "      <td>legitimate</td>\n",
       "    </tr>\n",
       "    <tr>\n",
       "      <th>1</th>\n",
       "      <td>http://shadetreetechnology.com/V4/validation/a...</td>\n",
       "      <td>phishing</td>\n",
       "    </tr>\n",
       "    <tr>\n",
       "      <th>2</th>\n",
       "      <td>https://support-appleld.com.secureupdate.duila...</td>\n",
       "      <td>phishing</td>\n",
       "    </tr>\n",
       "    <tr>\n",
       "      <th>3</th>\n",
       "      <td>http://rgipt.ac.in</td>\n",
       "      <td>legitimate</td>\n",
       "    </tr>\n",
       "    <tr>\n",
       "      <th>4</th>\n",
       "      <td>http://www.iracing.com/tracks/gateway-motorspo...</td>\n",
       "      <td>legitimate</td>\n",
       "    </tr>\n",
       "  </tbody>\n",
       "</table>\n",
       "</div>"
      ],
      "text/plain": [
       "                                                 url      status\n",
       "0              http://www.crestonwood.com/router.php  legitimate\n",
       "1  http://shadetreetechnology.com/V4/validation/a...    phishing\n",
       "2  https://support-appleld.com.secureupdate.duila...    phishing\n",
       "3                                 http://rgipt.ac.in  legitimate\n",
       "4  http://www.iracing.com/tracks/gateway-motorspo...  legitimate"
      ]
     },
     "execution_count": 22,
     "metadata": {},
     "output_type": "execute_result"
    }
   ],
   "source": [
    "data = pd.read_csv('dataset_pishing.csv')\n",
    "\n",
    "data.head(5)\n"
   ]
  },
  {
   "cell_type": "code",
   "execution_count": 9,
   "metadata": {},
   "outputs": [
    {
     "data": {
      "text/html": [
       "<div>\n",
       "<style scoped>\n",
       "    .dataframe tbody tr th:only-of-type {\n",
       "        vertical-align: middle;\n",
       "    }\n",
       "\n",
       "    .dataframe tbody tr th {\n",
       "        vertical-align: top;\n",
       "    }\n",
       "\n",
       "    .dataframe thead th {\n",
       "        text-align: right;\n",
       "    }\n",
       "</style>\n",
       "<table border=\"1\" class=\"dataframe\">\n",
       "  <thead>\n",
       "    <tr style=\"text-align: right;\">\n",
       "      <th></th>\n",
       "      <th>status_binario</th>\n",
       "    </tr>\n",
       "  </thead>\n",
       "  <tbody>\n",
       "    <tr>\n",
       "      <th>count</th>\n",
       "      <td>11430.000000</td>\n",
       "    </tr>\n",
       "    <tr>\n",
       "      <th>mean</th>\n",
       "      <td>0.500000</td>\n",
       "    </tr>\n",
       "    <tr>\n",
       "      <th>std</th>\n",
       "      <td>0.500022</td>\n",
       "    </tr>\n",
       "    <tr>\n",
       "      <th>min</th>\n",
       "      <td>0.000000</td>\n",
       "    </tr>\n",
       "    <tr>\n",
       "      <th>25%</th>\n",
       "      <td>0.000000</td>\n",
       "    </tr>\n",
       "    <tr>\n",
       "      <th>50%</th>\n",
       "      <td>0.500000</td>\n",
       "    </tr>\n",
       "    <tr>\n",
       "      <th>75%</th>\n",
       "      <td>1.000000</td>\n",
       "    </tr>\n",
       "    <tr>\n",
       "      <th>max</th>\n",
       "      <td>1.000000</td>\n",
       "    </tr>\n",
       "  </tbody>\n",
       "</table>\n",
       "</div>"
      ],
      "text/plain": [
       "       status_binario\n",
       "count    11430.000000\n",
       "mean         0.500000\n",
       "std          0.500022\n",
       "min          0.000000\n",
       "25%          0.000000\n",
       "50%          0.500000\n",
       "75%          1.000000\n",
       "max          1.000000"
      ]
     },
     "execution_count": 9,
     "metadata": {},
     "output_type": "execute_result"
    }
   ],
   "source": [
    "data.describe()"
   ]
  },
  {
   "cell_type": "code",
   "execution_count": 8,
   "metadata": {},
   "outputs": [
    {
     "name": "stdout",
     "output_type": "stream",
     "text": [
      "<class 'pandas.core.frame.DataFrame'>\n",
      "RangeIndex: 11430 entries, 0 to 11429\n",
      "Data columns (total 3 columns):\n",
      " #   Column          Non-Null Count  Dtype \n",
      "---  ------          --------------  ----- \n",
      " 0   url             11430 non-null  object\n",
      " 1   status          11430 non-null  object\n",
      " 2   status_binario  11430 non-null  int32 \n",
      "dtypes: int32(1), object(2)\n",
      "memory usage: 223.4+ KB\n"
     ]
    }
   ],
   "source": [
    "data.info()"
   ]
  },
  {
   "cell_type": "markdown",
   "metadata": {},
   "source": [
    "## Pregunta 2"
   ]
  },
  {
   "cell_type": "code",
   "execution_count": 4,
   "metadata": {},
   "outputs": [
    {
     "data": {
      "text/plain": [
       "legitimate    5715\n",
       "phishing      5715\n",
       "Name: status, dtype: int64"
      ]
     },
     "execution_count": 4,
     "metadata": {},
     "output_type": "execute_result"
    }
   ],
   "source": [
    "data['status'].value_counts()"
   ]
  },
  {
   "cell_type": "markdown",
   "metadata": {},
   "source": [
    "El dataset está balanceado porque tiene la misma cantidad de ejemplos para cada clase."
   ]
  },
  {
   "cell_type": "markdown",
   "metadata": {},
   "source": [
    "### 1. ¿Qué ventajas tiene el análisis de una URL contra el análisis de otros datos, cómo el tiempo de vida del dominio, o las características de la página Web?\n",
    "\n",
    "- Rapidez: El análisis de URL es generalmente más rápido que otras técnicas, como el tiempo de vida del dominio, lo que permite una detección más inmediata.\n",
    "\n",
    "- Información inmediata: La URL proporciona información directa sobre la dirección web, lo que facilita la evaluación inmediata de su validez.\n",
    "\n",
    "- Facilidad de extracción: Las características de una URL son fáciles de extraer y analizar en comparación con otras métricas, como el tiempo de vida del dominio.\n",
    "\n",
    "- Accesibilidad: Las URLs son públicas y fácilmente accesibles, permitiendo análisis sin requerir acceso a información privada.\n",
    "\n",
    "### 2. ¿Qué características de una URL son más prometedoras para la detección de phishing?\n",
    "\n",
    "- Longitud de la URL: Las URL de phishing a menudo tienden a ser más largas y complejas.\n",
    "\n",
    "- Presencia de caracteres especiales: La presencia de caracteres inusuales o codificados puede indicar un intento de ocultar la verdadera identidad de la URL.\n",
    "\n",
    "- Uso de subdominios: Phishing a veces utiliza subdominios para imitar sitios legítimos, por lo que analizar su presencia puede ser útil.\n",
    "\n",
    "- Coincidencia con marcas conocidas: La presencia de nombres de marcas en la URL puede indicar intentos de suplantación de identidad.\n",
    "\n",
    "- Verificación de protocolo: La ausencia de HTTPS puede ser una señal de que la URL es sospechosa.\n",
    "\n",
    "- Fecha de creación: Analizar la fecha de creación de la URL puede ayudar a identificar dominios recientemente registrados, lo cual es común en sitios de phishing.\n",
    "\n",
    "- Registro de WHOIS: Revisar la información de WHOIS para evaluar la autenticidad del registrante y la información de contacto.\n",
    "\n",
    "- Redirecciones múltiples: Phishing a menudo utiliza múltiples redirecciones para ocultar la verdadera dirección del sitio.\n",
    "\n",
    "- Similitud con URLs legítimas: Comparar la URL con la de sitios legítimos para identificar posibles intentos de imitación.\n",
    "\n",
    "- Análisis de palabras clave: Identificar palabras clave sospechosas o mal escritas en la URL que podrían indicar un intento de engaño.\n",
    "\n",
    "- Presencia de números de IP en lugar de nombres de dominio: Las URLs que utilizan direcciones IP en lugar de nombres de dominio pueden ser indicativas de intentos de phishing.\n",
    "\n",
    "- Coincidencia con patrones conocidos de phishing: Utilizar patrones conocidos de URLs de phishing para identificar similitudes.\n",
    "\n",
    "- Análisis de caducidad del dominio: Evaluar la fecha de caducidad del dominio puede revelar la intención a largo plazo del sitio.\n",
    "\n",
    "- Evaluación de popularidad del dominio: Analizar la popularidad de un dominio puede ayudar a identificar URLs sospechosas.\n"
   ]
  },
  {
   "cell_type": "code",
   "execution_count": 19,
   "metadata": {},
   "outputs": [],
   "source": [
    "#Funciones\n",
    "\n",
    "def longitud_url(url):\n",
    "    return len(url)\n",
    "\n",
    "def caracteres_especiales(url):\n",
    "    return sum(c.isalnum() == False for c in url)\n",
    "\n",
    "def uso_subdominios(url):\n",
    "    return len(urlparse(url).netloc.split('.'))\n",
    "\n",
    "def coincidencia_marcas(url, marcas_conocidas):\n",
    "    return any(brand.lower() in url.lower() for brand in marcas_conocidas)\n",
    "\n",
    "def verificar_https(url):\n",
    "    return 1 if urlparse(url).scheme == 'https' else 0\n",
    "\n",
    "def fecha_creacion(url):\n",
    "    try:\n",
    "        creation_date = whois.whois(url).creation_date\n",
    "        if isinstance(creation_date, list):\n",
    "            creation_date = creation_date[0]\n",
    "        return (datetime.datetime.now() - creation_date).days\n",
    "    except:\n",
    "        return 0\n",
    "\n",
    "def analisis_whois(url):\n",
    "    try:\n",
    "        whois_info = whois.whois(url)\n",
    "        return whois_info\n",
    "    except:\n",
    "        return None\n",
    "\n",
    "def similitud_url_legitimas(url, urls_legitimas_conocidas):\n",
    "    vectorizer = CountVectorizer().fit_transform([url] + urls_legitimas_conocidas)\n",
    "    similarity_matrix = cosine_similarity(vectorizer)\n",
    "    return similarity_matrix[0, 1:]\n",
    "\n",
    "def palabras_clave_sospechosas(url, palabras_sospechosas):\n",
    "    return sum(1 for palabra in palabras_sospechosas if palabra.lower() in url.lower())\n",
    "\n",
    "def ip_en_lugar_de_dominio(url):\n",
    "    return 1 if re.match(r'\\b(?:\\d{1,3}\\.){3}\\d{1,3}\\b', urlparse(url).netloc) else 0\n",
    "\n",
    "def patrones_conocidos_phishing(url, patrones_phishing_conocidos):\n",
    "    return any(re.search(patron, url) for patron in patrones_phishing_conocidos)\n",
    "\n",
    "def analisis_caducidad_dominio(url):\n",
    "    try:\n",
    "        expiration_date = whois.whois(url).expiration_date\n",
    "        if isinstance(expiration_date, list):\n",
    "            expiration_date = expiration_date[0]\n",
    "        return (expiration_date - datetime.datetime.now()).days\n",
    "    except:\n",
    "        return 0"
   ]
  },
  {
   "cell_type": "code",
   "execution_count": 23,
   "metadata": {},
   "outputs": [],
   "source": [
    "data['longitud_url'] = data['url'].apply(longitud_url)\n",
    "data['caracteres_especiales'] = data['url'].apply(caracteres_especiales)\n",
    "data['uso_subdominios'] = data['url'].apply(uso_subdominios)\n",
    "#data['coincidencia_marcas'] = data['url'].apply(lambda x: coincidencia_marcas(x, marcas_conocidas=['marca1', 'marca2']))\n",
    "data['verificar_https'] = data['url'].apply(verificar_https)\n",
    "data['fecha_creacion'] = data['url'].apply(fecha_creacion)\n",
    "data['analisis_whois'] = data['url'].apply(analisis_whois)\n",
    "data['similitud_url_legitimas'] = data['url'].apply(lambda x: similitud_url_legitimas(x, urls_legitimas_conocidas=['http://legitimo.com']))\n",
    "data['palabras_clave_sospechosas'] = data['url'].apply(lambda x: palabras_clave_sospechosas(x, palabras_sospechosas=['phishing']))\n",
    "data['ip_en_lugar_de_dominio'] = data['url'].apply(ip_en_lugar_de_dominio)\n",
    "#data['patrones_conocidos_phishing'] = data['url'].apply(lambda x: patrones_conocidos_phishing(x, patrones_phishing_conocidos=['patron1', 'patron2']))\n",
    "data['analisis_caducidad_dominio'] = data['url'].apply(analisis_caducidad_dominio)"
   ]
  },
  {
   "cell_type": "code",
   "execution_count": 24,
   "metadata": {},
   "outputs": [
    {
     "name": "stdout",
     "output_type": "stream",
     "text": [
      "DataFrame después de las modificaciones:\n",
      "       status  longitud_url  caracteres_especiales  uso_subdominios  \\\n",
      "0  legitimate            37                      7                3   \n",
      "1    phishing            77                      7                2   \n",
      "2    phishing           126                     19                5   \n",
      "3  legitimate            18                      5                3   \n",
      "4  legitimate            55                     10                3   \n",
      "\n",
      "   verificar_https  fecha_creacion analisis_whois similitud_url_legitimas  \\\n",
      "0                0               0           None    [0.4714045207910318]   \n",
      "1                0               0           None    [0.4714045207910318]   \n",
      "2                1               0           None    [0.2886751345948129]   \n",
      "3                0               0           None    [0.2886751345948129]   \n",
      "4                0               0           None     [0.408248290463863]   \n",
      "\n",
      "   palabras_clave_sospechosas  ip_en_lugar_de_dominio  \\\n",
      "0                           0                       0   \n",
      "1                           0                       0   \n",
      "2                           0                       0   \n",
      "3                           0                       0   \n",
      "4                           0                       0   \n",
      "\n",
      "   analisis_caducidad_dominio  status_binario  \n",
      "0                           0               0  \n",
      "1                           0               1  \n",
      "2                           0               1  \n",
      "3                           0               0  \n",
      "4                           0               0  \n"
     ]
    }
   ],
   "source": [
    "label_encoder = LabelEncoder()\n",
    "data['status_binario'] = label_encoder.fit_transform(data['status'])\n",
    "\n",
    "data = data.drop(['url'], axis=1)\n",
    "\n",
    "\n",
    "print(\"DataFrame después de las modificaciones:\")\n",
    "print(data.head())"
   ]
  }
 ],
 "metadata": {
  "kernelspec": {
   "display_name": "Python 3",
   "language": "python",
   "name": "python3"
  },
  "language_info": {
   "codemirror_mode": {
    "name": "ipython",
    "version": 3
   },
   "file_extension": ".py",
   "mimetype": "text/x-python",
   "name": "python",
   "nbconvert_exporter": "python",
   "pygments_lexer": "ipython3",
   "version": "3.11.1"
  }
 },
 "nbformat": 4,
 "nbformat_minor": 2
}
